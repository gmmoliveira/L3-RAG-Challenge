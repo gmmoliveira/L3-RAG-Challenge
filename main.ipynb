{
 "cells": [
  {
   "cell_type": "markdown",
   "id": "483c7611",
   "metadata": {},
   "source": [
    "# Implementação de Retrieval-Augmented Generation (RAG)\n",
    "\n",
    "### Autor: ***Guilherme Oliveira***\n",
    "### Contato: gmmoliveira1@gmail.com\n",
    "### Data: 16 de agosto de 2025"
   ]
  },
  {
   "cell_type": "markdown",
   "id": "3f7ce2c4",
   "metadata": {},
   "source": [
    "#### Imports"
   ]
  },
  {
   "cell_type": "code",
   "execution_count": 1,
   "id": "b621335d",
   "metadata": {},
   "outputs": [],
   "source": [
    "from agno.agent import Agent\n",
    "from agno.document.chunking.agentic import AgenticChunking\n",
    "from agno.embedder.ollama import OllamaEmbedder\n",
    "from agno.knowledge.pdf import PDFKnowledgeBase, PDFReader\n",
    "from agno.models.ollama import Ollama\n",
    "from agno.reranker.infinity import InfinityReranker\n",
    "from agno.vectordb.pgvector import PgVector, SearchType\n",
    "from ollama import AsyncClient\n",
    "import yaml\n",
    "import asyncio\n",
    "from textwrap import dedent\n"
   ]
  },
  {
   "cell_type": "markdown",
   "id": "256bf809",
   "metadata": {},
   "source": [
    "#### Definição de Constantes\n",
    "\n",
    "Define constantes que controlam o funcionamento geral do script"
   ]
  },
  {
   "cell_type": "code",
   "execution_count": 2,
   "id": "4be9d5ef",
   "metadata": {},
   "outputs": [],
   "source": [
    "KNOWLEDGE_BASE_PATH = \"recursos/base_de_conhecimentos_PDFs/\"\n",
    "BASE_MODEL = \"qwen3:32b\"\n",
    "DATABASE_CONFIG_PATH = \"recursos/configs/database.yaml\"\n",
    "REQUIREMENTS_PATH = \"recursos/requirements.txt\"\n",
    "OLLAMA_HOST = \"http://localhost:54256\""
   ]
  },
  {
   "cell_type": "code",
   "execution_count": 3,
   "id": "3d0e81a7",
   "metadata": {},
   "outputs": [],
   "source": [
    "with open(DATABASE_CONFIG_PATH, 'r') as file:\n",
    "    database_config_aux = yaml.safe_load(file)\n",
    "database_config = database_config_aux[\"database\"]\n",
    "\n",
    "# postgresql+psycopg://<username>:<password>@<host>:<port>/<database>\n",
    "DATABASE_URL = f\"postgresql+psycopg://{database_config['user']}:{database_config['password']}@{database_config['host']}:{database_config['port']}/{database_config['dbname']}\""
   ]
  },
  {
   "cell_type": "markdown",
   "id": "588c9c03",
   "metadata": {},
   "source": [
    "#### Consolidação dos Requisitos Python"
   ]
  },
  {
   "cell_type": "code",
   "execution_count": 4,
   "id": "9866dad6",
   "metadata": {},
   "outputs": [],
   "source": [
    "!pip freeze > $REQUIREMENTS_PATH"
   ]
  },
  {
   "cell_type": "markdown",
   "id": "ded8c224",
   "metadata": {},
   "source": [
    "#### Download do LLM desejado"
   ]
  },
  {
   "cell_type": "code",
   "execution_count": 5,
   "id": "d39ae4d2",
   "metadata": {},
   "outputs": [
    {
     "name": "stdout",
     "output_type": "stream",
     "text": [
      "\u001b[?2026h\u001b[?25l\u001b[1Gpulling manifest ⠋ \u001b[K\u001b[?25h\u001b[?2026l\u001b[?2026h\u001b[?25l\u001b[1Gpulling manifest ⠹ \u001b[K\u001b[?25h\u001b[?2026l\u001b[?2026h\u001b[?25l\u001b[1Gpulling manifest ⠹ \u001b[K\u001b[?25h\u001b[?2026l\u001b[?2026h\u001b[?25l\u001b[1Gpulling manifest ⠸ \u001b[K\u001b[?25h\u001b[?2026l\u001b[?2026h\u001b[?25l\u001b[1Gpulling manifest ⠼ \u001b[K\u001b[?25h\u001b[?2026l\u001b[?2026h\u001b[?25l\u001b[1Gpulling manifest ⠴ \u001b[K\u001b[?25h\u001b[?2026l\u001b[?2026h\u001b[?25l\u001b[1Gpulling manifest \u001b[K\n",
      "pulling 3291abe70f16: 100% ▕██████████████████▏  20 GB                         \u001b[K\n",
      "pulling ae370d884f10: 100% ▕██████████████████▏ 1.7 KB                         \u001b[K\n",
      "pulling d18a5cc71b84: 100% ▕██████████████████▏  11 KB                         \u001b[K\n",
      "pulling cff3f395ef37: 100% ▕██████████████████▏  120 B                         \u001b[K\n",
      "pulling afdf5c7585b3: 100% ▕██████████████████▏  488 B                         \u001b[K\n",
      "verifying sha256 digest \u001b[K\n",
      "writing manifest \u001b[K\n",
      "success \u001b[K\u001b[?25h\u001b[?2026l\n"
     ]
    }
   ],
   "source": [
    "!ollama pull $BASE_MODEL"
   ]
  },
  {
   "cell_type": "code",
   "execution_count": null,
   "id": "b2503032",
   "metadata": {},
   "outputs": [
    {
     "data": {
      "text/html": [
       "<pre style=\"white-space:pre;overflow-x:auto;line-height:normal;font-family:Menlo,'DejaVu Sans Mono',consolas,'Courier New',monospace\"><span style=\"color: #000080; text-decoration-color: #000080\">INFO</span> Dropping collection                                                                                           \n",
       "</pre>\n"
      ],
      "text/plain": [
       "\u001b[34mINFO\u001b[0m Dropping collection                                                                                           \n"
      ]
     },
     "metadata": {},
     "output_type": "display_data"
    },
    {
     "data": {
      "text/html": [
       "<pre style=\"white-space:pre;overflow-x:auto;line-height:normal;font-family:Menlo,'DejaVu Sans Mono',consolas,'Courier New',monospace\"><span style=\"color: #000080; text-decoration-color: #000080\">INFO</span> Table <span style=\"color: #008000; text-decoration-color: #008000\">'ai.pdf_documents'</span> dropped successfully.                                                                \n",
       "</pre>\n"
      ],
      "text/plain": [
       "\u001b[34mINFO\u001b[0m Table \u001b[32m'ai.pdf_documents'\u001b[0m dropped successfully.                                                                \n"
      ]
     },
     "metadata": {},
     "output_type": "display_data"
    },
    {
     "data": {
      "text/html": [
       "<pre style=\"white-space:pre;overflow-x:auto;line-height:normal;font-family:Menlo,'DejaVu Sans Mono',consolas,'Courier New',monospace\"><span style=\"color: #000080; text-decoration-color: #000080\">INFO</span> Creating collection                                                                                           \n",
       "</pre>\n"
      ],
      "text/plain": [
       "\u001b[34mINFO\u001b[0m Creating collection                                                                                           \n"
      ]
     },
     "metadata": {},
     "output_type": "display_data"
    },
    {
     "data": {
      "text/html": [
       "<pre style=\"white-space:pre;overflow-x:auto;line-height:normal;font-family:Menlo,'DejaVu Sans Mono',consolas,'Courier New',monospace\"><span style=\"color: #000080; text-decoration-color: #000080\">INFO</span> Loading knowledge base                                                                                        \n",
       "</pre>\n"
      ],
      "text/plain": [
       "\u001b[34mINFO\u001b[0m Loading knowledge base                                                                                        \n"
      ]
     },
     "metadata": {},
     "output_type": "display_data"
    },
    {
     "data": {
      "text/html": [
       "<pre style=\"white-space:pre;overflow-x:auto;line-height:normal;font-family:Menlo,'DejaVu Sans Mono',consolas,'Courier New',monospace\"><span style=\"color: #000080; text-decoration-color: #000080\">INFO</span> Reading: Which Economic Tasks are Performed with AI_ Evidence from Millions of Claude Conversations           \n",
       "</pre>\n"
      ],
      "text/plain": [
       "\u001b[34mINFO\u001b[0m Reading: Which Economic Tasks are Performed with AI_ Evidence from Millions of Claude Conversations           \n"
      ]
     },
     "metadata": {},
     "output_type": "display_data"
    },
    {
     "data": {
      "text/html": [
       "<pre style=\"white-space:pre;overflow-x:auto;line-height:normal;font-family:Menlo,'DejaVu Sans Mono',consolas,'Courier New',monospace\"><span style=\"color: #000080; text-decoration-color: #000080\">INFO</span> Upserted batch of <span style=\"color: #008080; text-decoration-color: #008080; font-weight: bold\">86</span> documents.                                                                               \n",
       "</pre>\n"
      ],
      "text/plain": [
       "\u001b[34mINFO\u001b[0m Upserted batch of \u001b[1;36m86\u001b[0m documents.                                                                               \n"
      ]
     },
     "metadata": {},
     "output_type": "display_data"
    },
    {
     "data": {
      "text/html": [
       "<pre style=\"white-space:pre;overflow-x:auto;line-height:normal;font-family:Menlo,'DejaVu Sans Mono',consolas,'Courier New',monospace\"><span style=\"color: #000080; text-decoration-color: #000080\">INFO</span> Added <span style=\"color: #008080; text-decoration-color: #008080; font-weight: bold\">86</span> documents to knowledge base                                                                          \n",
       "</pre>\n"
      ],
      "text/plain": [
       "\u001b[34mINFO\u001b[0m Added \u001b[1;36m86\u001b[0m documents to knowledge base                                                                          \n"
      ]
     },
     "metadata": {},
     "output_type": "display_data"
    }
   ],
   "source": [
    "embedder = OllamaEmbedder(\n",
    "    dimensions=5120, # ajustar em acordo com o LLM escolhido\n",
    "    id=BASE_MODEL,\n",
    ")\n",
    "#reranker = InfinityReranker()\n",
    "\n",
    "database = PgVector(\n",
    "    table_name=\"pdf_documents\",\n",
    "    db_url=DATABASE_URL,\n",
    "    search_type=SearchType.hybrid,\n",
    "    embedder=embedder,\n",
    "    #reranker=reranker,\n",
    ")\n",
    "\n",
    "reader = PDFReader(\n",
    "    split_on_pages=False,\n",
    "    chunk=True,\n",
    ")\n",
    "chunking_strategy = AgenticChunking(\n",
    "    model=BASE_MODEL,\n",
    "    max_chunk_size=5000,\n",
    ")\n",
    "\n",
    "pdf_knowledge_base = PDFKnowledgeBase(\n",
    "    path=KNOWLEDGE_BASE_PATH,\n",
    "    vector_db=database,\n",
    "    reader=reader,\n",
    "    chunking_strategy=chunking_strategy,\n",
    ")\n",
    "pdf_knowledge_base.load(\n",
    "    recreate=True,\n",
    "    upsert=True,\n",
    "    skip_existing=False,\n",
    ")"
   ]
  },
  {
   "cell_type": "code",
   "execution_count": 7,
   "id": "64157c8c",
   "metadata": {},
   "outputs": [],
   "source": [
    "async_client = AsyncClient(\n",
    "    host=OLLAMA_HOST,\n",
    "    headers={\n",
    "        \"temperature\": \"0.25\",\n",
    "    }\n",
    ")"
   ]
  },
  {
   "cell_type": "code",
   "execution_count": 8,
   "id": "68ba8bb4",
   "metadata": {},
   "outputs": [],
   "source": [
    "model = Ollama(\n",
    "    id=BASE_MODEL,\n",
    "    async_client=async_client,\n",
    ")\n",
    "\n",
    "agent = Agent(\n",
    "    model=model,\n",
    "    knowledge=pdf_knowledge_base,\n",
    "    description=dedent(\"\"\"\n",
    "        You are a **Search-Based Research Agent**, an expert in retrieving and synthesizing the most current,\n",
    "        accurate information from trusted sources. Your core function is to answer user queries\n",
    "        exclusively using data obtained through real-time search tool calls. You must never rely\n",
    "        on pre-trained knowledge, assumptions, or unsourced information. Prioritize credibility,\n",
    "        recency, and relevance in all responses.\n",
    "    \"\"\"),\n",
    "    instructions=[\n",
    "        dedent(\"\"\"\n",
    "        1. **Mandatory Search Activation**:  \n",
    "            - For **every** user query, invoke the search tool immediately.  \n",
    "            - Generate 1–3 optimized search queries targeting credible sources (e.g., academic journals, official reports, reputable news).  \n",
    "            *Example: Querying \"peer-reviewed definition of quantum entanglement\" instead of \"what is quantum entanglement?\"* \n",
    "        \"\"\"),\n",
    "        dedent(\"\"\"\n",
    "        2. **Information Synthesis**:  \n",
    "            - Extract **only** facts from the top 3–5 search results. Cross-verify overlapping information across sources.  \n",
    "            - Discard conflicting/low-credibility data (e.g., unverified forums, outdated pages).  \n",
    "        \"\"\"),\n",
    "        dedent(\"\"\"\n",
    "        3. **Response Structure**:  \n",
    "            - **Attribution**: Cite sources for every claim. Format: `[Source: Domain/Title]`.  \n",
    "            - **Conciseness**: Answer directly in ≤3 sentences.  \n",
    "            - **Uncertainty Handling**: If sources are inadequate, respond:  \n",
    "                > \"I found no verified sources on this topic. Refine your query or ask another question.\"  \n",
    "        \"\"\"),\n",
    "        dedent(\"\"\"\n",
    "        4. **Prohibitions**:  \n",
    "            - No speculation, opinions, or unsupported statements.  \n",
    "            - No use of internal knowledge without search validation.  \n",
    "        \"\"\"),\n",
    "        dedent(\"\"\"\n",
    "        5. **Language**:\n",
    "            - Answer using the same language as the user is using in their queries. When necessary, keep technical terms in english (e.g., Retrieval-Augmented Generation---RAG).\n",
    "        \"\"\"),\n",
    "        dedent(\"\"\"\n",
    "        ### Example Interaction  \n",
    "            **User**: Define \"neuromorphic computing.\"  \n",
    "            **Agent**:  \n",
    "            1. *Searches*: [\"neuromorphic computing definition academic\"], [\"neuromorphic vs traditional architecture peer-reviewed\"].  \n",
    "            2. *Synthesizes*:  \n",
    "            > \"Neuromorphic computing designs hardware to mimic the brain’s neural structure for energy-efficient AI processing [Source: Nature Electronics]. It uses spiking neural networks for real-time learning [Source: IEEE Spectrum].\"  \n",
    "        \"\"\"),\n",
    "        dedent(\"\"\"\n",
    "        **Key Principles**:  \n",
    "            - **Search-First**: All answers originate from tool-retrieved data.  \n",
    "            - **Precision > Creativity**: Prioritize factual accuracy over engagement.  \n",
    "            - **Source Transparency**: Always expose origins for user verification.\n",
    "            - **User Language Matching**: Answer in the same language the user uses (e.g., Portuguese).\n",
    "        \"\"\"),\n",
    "    ],\n",
    "    search_knowledge=True,\n",
    "    show_tool_calls=True,\n",
    "    markdown=True,\n",
    ")"
   ]
  },
  {
   "cell_type": "code",
   "execution_count": 9,
   "id": "acce725c",
   "metadata": {},
   "outputs": [],
   "source": [
    "questions_answers = {\n",
    "    # Questão 01\n",
    "    \"Qual é o principal objetivo do estudo conduzido pela Anthropic?\": \n",
    "    \"Fornecer a primeira medição empírica em larga escala de quais tarefas econômicas estão sendo realizadas com IA, usando análises de conversas reais no Claude.ai. Trecho: 'we present a novel framework for measuring AI usage patterns across the economy' (Introdução).\",\n",
    "\n",
    "    # Questão 02\n",
    "    \"Quais são as duas categorias de tarefas que concentram quase metade do uso de IA?\": \n",
    "    \"Desenvolvimento de software e tarefas de escrita. Trecho: 'AI usage primarily concentrates in software development and writing tasks, which together account for nearly half of all total usage' (Abstract).\",\n",
    "\n",
    "    # Questão 03\n",
    "    \"Que porcentagem de ocupações usa IA para pelo menos 25% de suas tarefas associadas?\": \n",
    "    \"Aproximadamente 36%. Trecho: '∼ 36% of occupations using AI for at least a quarter of their associated tasks' (Abstract).\",\n",
    "\n",
    "    # Questão 04\n",
    "    \"Como os autores categorizam os padrões de uso entre automação e aumento (augmentation)?\": \n",
    "    \"57% das interações mostram padrões de aumento (ex: aprendizado ou iteração) e 43% de automação (ex: execução direta com mínimo envolvimento humano). Trecho: '57% of usage suggests augmentation... while 43% suggests automation' (Abstract).\",\n",
    "\n",
    "    # Questão 05\n",
    "    \"Quais habilidades ocupacionais são mais prevalentes nas conversas com IA?\": \n",
    "    \"Habilidades cognitivas como 'Reading Comprehension', 'Writing' e 'Critical Thinking'. Trecho: 'Cognitive skills like Reading Comprehension, Writing, and Critical Thinking show high presence' (Seção 3.2).\",\n",
    "\n",
    "    # Questão 06\n",
    "    \"Como o uso de IA varia conforme o salário das ocupações?\": \n",
    "    \"O uso atinge o pico no quartil superior de salários, mas diminui nos extremos (salários muito altos ou muito baixos). Trecho: 'AI use peaks in the upper quartile of wages but drops off at both extremes' (Seção 3.3).\",\n",
    "\n",
    "    # Questão 07\n",
    "    \"Qual é a principal limitação dos dados utilizados no estudo?\": \n",
    "    \"Os dados representam apenas conversas textuais do Claude.ai (Free e Pro), não incluindo usuários empresariais ou outras plataformas. Trecho: 'only paint a picture of AI usage on a single platform' (Abstract) e 'cannot reveal how Claude’s outputs are actually used in practice' (Seção 4.1).\",\n",
    "\n",
    "    # Questão 08\n",
    "    \"Como os modelos Claude 3 Opus e Claude 3.5 Sonnet diferem nos padrões de uso?\": \n",
    "    \"O Opus é mais usado para tarefas criativas/educacionais, enquanto o Sonnet é preferido para tarefas técnicas e de codificação. Trecho: 'Opus sees higher usage for creative and educational work... Sonnet is preferred for coding and software development tasks' (Seção 3.5).\",\n",
    "\n",
    "    # Questão 09\n",
    "    \"Qual framework teórico fundamenta a análise das tarefas econômicas?\": \n",
    "    \"A abordagem baseada em tarefas (task-based framework) do O*NET Database. Trecho: 'modeling labor markets through the lens of discrete tasks which can be performed by either human workers or machines' (Seção 2).\",\n",
    "\n",
    "    # Questão 10\n",
    "    \"Que tipo de ocupações apresenta menor penetração de IA segundo o estudo?\": \n",
    "    \"Ocupações que exigem manipulação física direta (ex: profissionais de saúde, construção) ou treinamento extensivo (ex: médicos). Trecho: 'occupations involving physical manipulation of the environment... show minimal use' (Seção 1) e 'Job Zone 5: Extensive Preparation Needed... low usage' (Apêndice D.2).\"\n",
    "}"
   ]
  },
  {
   "cell_type": "code",
   "execution_count": 10,
   "id": "ac9702f1",
   "metadata": {},
   "outputs": [
    {
     "data": {
      "application/vnd.jupyter.widget-view+json": {
       "model_id": "c318ce0f0d1245f886802df2fd160570",
       "version_major": 2,
       "version_minor": 0
      },
      "text/plain": [
       "Output()"
      ]
     },
     "metadata": {},
     "output_type": "display_data"
    },
    {
     "data": {
      "text/html": [
       "<pre style=\"white-space:pre;overflow-x:auto;line-height:normal;font-family:Menlo,'DejaVu Sans Mono',consolas,'Courier New',monospace\"><span style=\"color: #000080; text-decoration-color: #000080\">INFO</span> Found <span style=\"color: #008080; text-decoration-color: #008080; font-weight: bold\">5</span> documents                                                                                             \n",
       "</pre>\n"
      ],
      "text/plain": [
       "\u001b[34mINFO\u001b[0m Found \u001b[1;36m5\u001b[0m documents                                                                                             \n"
      ]
     },
     "metadata": {},
     "output_type": "display_data"
    },
    {
     "data": {
      "text/html": [
       "<pre style=\"white-space:pre;overflow-x:auto;line-height:normal;font-family:Menlo,'DejaVu Sans Mono',consolas,'Courier New',monospace\"></pre>\n"
      ],
      "text/plain": []
     },
     "metadata": {},
     "output_type": "display_data"
    },
    {
     "data": {
      "application/vnd.jupyter.widget-view+json": {
       "model_id": "834c7dc41fa847a78aa8b71aed5a379d",
       "version_major": 2,
       "version_minor": 0
      },
      "text/plain": [
       "Output()"
      ]
     },
     "metadata": {},
     "output_type": "display_data"
    },
    {
     "data": {
      "text/html": [
       "<pre style=\"white-space:pre;overflow-x:auto;line-height:normal;font-family:Menlo,'DejaVu Sans Mono',consolas,'Courier New',monospace\"><span style=\"color: #000080; text-decoration-color: #000080\">INFO</span> Found <span style=\"color: #008080; text-decoration-color: #008080; font-weight: bold\">5</span> documents                                                                                             \n",
       "</pre>\n"
      ],
      "text/plain": [
       "\u001b[34mINFO\u001b[0m Found \u001b[1;36m5\u001b[0m documents                                                                                             \n"
      ]
     },
     "metadata": {},
     "output_type": "display_data"
    },
    {
     "data": {
      "text/html": [
       "<pre style=\"white-space:pre;overflow-x:auto;line-height:normal;font-family:Menlo,'DejaVu Sans Mono',consolas,'Courier New',monospace\"></pre>\n"
      ],
      "text/plain": []
     },
     "metadata": {},
     "output_type": "display_data"
    },
    {
     "data": {
      "application/vnd.jupyter.widget-view+json": {
       "model_id": "e87c5e74b741439f8bde89e440faa35d",
       "version_major": 2,
       "version_minor": 0
      },
      "text/plain": [
       "Output()"
      ]
     },
     "metadata": {},
     "output_type": "display_data"
    },
    {
     "data": {
      "text/html": [
       "<pre style=\"white-space:pre;overflow-x:auto;line-height:normal;font-family:Menlo,'DejaVu Sans Mono',consolas,'Courier New',monospace\"><span style=\"color: #000080; text-decoration-color: #000080\">INFO</span> Found <span style=\"color: #008080; text-decoration-color: #008080; font-weight: bold\">5</span> documents                                                                                             \n",
       "</pre>\n"
      ],
      "text/plain": [
       "\u001b[34mINFO\u001b[0m Found \u001b[1;36m5\u001b[0m documents                                                                                             \n"
      ]
     },
     "metadata": {},
     "output_type": "display_data"
    },
    {
     "data": {
      "text/html": [
       "<pre style=\"white-space:pre;overflow-x:auto;line-height:normal;font-family:Menlo,'DejaVu Sans Mono',consolas,'Courier New',monospace\"></pre>\n"
      ],
      "text/plain": []
     },
     "metadata": {},
     "output_type": "display_data"
    },
    {
     "data": {
      "application/vnd.jupyter.widget-view+json": {
       "model_id": "9a5e10027c2e45419ba593a5f4079cd9",
       "version_major": 2,
       "version_minor": 0
      },
      "text/plain": [
       "Output()"
      ]
     },
     "metadata": {},
     "output_type": "display_data"
    },
    {
     "data": {
      "text/html": [
       "<pre style=\"white-space:pre;overflow-x:auto;line-height:normal;font-family:Menlo,'DejaVu Sans Mono',consolas,'Courier New',monospace\"><span style=\"color: #000080; text-decoration-color: #000080\">INFO</span> Found <span style=\"color: #008080; text-decoration-color: #008080; font-weight: bold\">5</span> documents                                                                                             \n",
       "</pre>\n"
      ],
      "text/plain": [
       "\u001b[34mINFO\u001b[0m Found \u001b[1;36m5\u001b[0m documents                                                                                             \n"
      ]
     },
     "metadata": {},
     "output_type": "display_data"
    },
    {
     "data": {
      "text/html": [
       "<pre style=\"white-space:pre;overflow-x:auto;line-height:normal;font-family:Menlo,'DejaVu Sans Mono',consolas,'Courier New',monospace\"></pre>\n"
      ],
      "text/plain": []
     },
     "metadata": {},
     "output_type": "display_data"
    },
    {
     "data": {
      "application/vnd.jupyter.widget-view+json": {
       "model_id": "f0efab832b564f47ab6ca85f38c9f562",
       "version_major": 2,
       "version_minor": 0
      },
      "text/plain": [
       "Output()"
      ]
     },
     "metadata": {},
     "output_type": "display_data"
    },
    {
     "data": {
      "text/html": [
       "<pre style=\"white-space:pre;overflow-x:auto;line-height:normal;font-family:Menlo,'DejaVu Sans Mono',consolas,'Courier New',monospace\"><span style=\"color: #000080; text-decoration-color: #000080\">INFO</span> Found <span style=\"color: #008080; text-decoration-color: #008080; font-weight: bold\">5</span> documents                                                                                             \n",
       "</pre>\n"
      ],
      "text/plain": [
       "\u001b[34mINFO\u001b[0m Found \u001b[1;36m5\u001b[0m documents                                                                                             \n"
      ]
     },
     "metadata": {},
     "output_type": "display_data"
    },
    {
     "data": {
      "text/html": [
       "<pre style=\"white-space:pre;overflow-x:auto;line-height:normal;font-family:Menlo,'DejaVu Sans Mono',consolas,'Courier New',monospace\"></pre>\n"
      ],
      "text/plain": []
     },
     "metadata": {},
     "output_type": "display_data"
    },
    {
     "data": {
      "application/vnd.jupyter.widget-view+json": {
       "model_id": "301099de5a7049698a539ad3d208100d",
       "version_major": 2,
       "version_minor": 0
      },
      "text/plain": [
       "Output()"
      ]
     },
     "metadata": {},
     "output_type": "display_data"
    },
    {
     "data": {
      "text/html": [
       "<pre style=\"white-space:pre;overflow-x:auto;line-height:normal;font-family:Menlo,'DejaVu Sans Mono',consolas,'Courier New',monospace\"></pre>\n"
      ],
      "text/plain": []
     },
     "metadata": {},
     "output_type": "display_data"
    },
    {
     "data": {
      "application/vnd.jupyter.widget-view+json": {
       "model_id": "6115c44a076b48ed858717b304e9c559",
       "version_major": 2,
       "version_minor": 0
      },
      "text/plain": [
       "Output()"
      ]
     },
     "metadata": {},
     "output_type": "display_data"
    },
    {
     "data": {
      "text/html": [
       "<pre style=\"white-space:pre;overflow-x:auto;line-height:normal;font-family:Menlo,'DejaVu Sans Mono',consolas,'Courier New',monospace\"></pre>\n"
      ],
      "text/plain": []
     },
     "metadata": {},
     "output_type": "display_data"
    },
    {
     "data": {
      "application/vnd.jupyter.widget-view+json": {
       "model_id": "70dfc278a0894f56b35970cb4a63cccf",
       "version_major": 2,
       "version_minor": 0
      },
      "text/plain": [
       "Output()"
      ]
     },
     "metadata": {},
     "output_type": "display_data"
    },
    {
     "data": {
      "text/html": [
       "<pre style=\"white-space:pre;overflow-x:auto;line-height:normal;font-family:Menlo,'DejaVu Sans Mono',consolas,'Courier New',monospace\"><span style=\"color: #000080; text-decoration-color: #000080\">INFO</span> Found <span style=\"color: #008080; text-decoration-color: #008080; font-weight: bold\">5</span> documents                                                                                             \n",
       "</pre>\n"
      ],
      "text/plain": [
       "\u001b[34mINFO\u001b[0m Found \u001b[1;36m5\u001b[0m documents                                                                                             \n"
      ]
     },
     "metadata": {},
     "output_type": "display_data"
    },
    {
     "data": {
      "text/html": [
       "<pre style=\"white-space:pre;overflow-x:auto;line-height:normal;font-family:Menlo,'DejaVu Sans Mono',consolas,'Courier New',monospace\"></pre>\n"
      ],
      "text/plain": []
     },
     "metadata": {},
     "output_type": "display_data"
    },
    {
     "data": {
      "application/vnd.jupyter.widget-view+json": {
       "model_id": "12e7fbf7e79f4201b24c1fa1018cb74d",
       "version_major": 2,
       "version_minor": 0
      },
      "text/plain": [
       "Output()"
      ]
     },
     "metadata": {},
     "output_type": "display_data"
    },
    {
     "data": {
      "text/html": [
       "<pre style=\"white-space:pre;overflow-x:auto;line-height:normal;font-family:Menlo,'DejaVu Sans Mono',consolas,'Courier New',monospace\"><span style=\"color: #000080; text-decoration-color: #000080\">INFO</span> Found <span style=\"color: #008080; text-decoration-color: #008080; font-weight: bold\">5</span> documents                                                                                             \n",
       "</pre>\n"
      ],
      "text/plain": [
       "\u001b[34mINFO\u001b[0m Found \u001b[1;36m5\u001b[0m documents                                                                                             \n"
      ]
     },
     "metadata": {},
     "output_type": "display_data"
    },
    {
     "data": {
      "text/html": [
       "<pre style=\"white-space:pre;overflow-x:auto;line-height:normal;font-family:Menlo,'DejaVu Sans Mono',consolas,'Courier New',monospace\"></pre>\n"
      ],
      "text/plain": []
     },
     "metadata": {},
     "output_type": "display_data"
    },
    {
     "data": {
      "application/vnd.jupyter.widget-view+json": {
       "model_id": "6deb7169c778446c9a3ac6bfeeaa30fd",
       "version_major": 2,
       "version_minor": 0
      },
      "text/plain": [
       "Output()"
      ]
     },
     "metadata": {},
     "output_type": "display_data"
    },
    {
     "data": {
      "text/html": [
       "<pre style=\"white-space:pre;overflow-x:auto;line-height:normal;font-family:Menlo,'DejaVu Sans Mono',consolas,'Courier New',monospace\"><span style=\"color: #000080; text-decoration-color: #000080\">INFO</span> Found <span style=\"color: #008080; text-decoration-color: #008080; font-weight: bold\">5</span> documents                                                                                             \n",
       "</pre>\n"
      ],
      "text/plain": [
       "\u001b[34mINFO\u001b[0m Found \u001b[1;36m5\u001b[0m documents                                                                                             \n"
      ]
     },
     "metadata": {},
     "output_type": "display_data"
    },
    {
     "data": {
      "text/html": [
       "<pre style=\"white-space:pre;overflow-x:auto;line-height:normal;font-family:Menlo,'DejaVu Sans Mono',consolas,'Courier New',monospace\"></pre>\n"
      ],
      "text/plain": []
     },
     "metadata": {},
     "output_type": "display_data"
    }
   ],
   "source": [
    "\n",
    "for question in list(questions_answers.keys()):\n",
    "    agent.print_response(question, stream=True, markdown=True)\n",
    "    #await asyncio.run(agent.aprint_response(list(questions_answers.keys()), stream=True))\n"
   ]
  }
 ],
 "metadata": {
  "kernelspec": {
   "display_name": "venv",
   "language": "python",
   "name": "python3"
  },
  "language_info": {
   "codemirror_mode": {
    "name": "ipython",
    "version": 3
   },
   "file_extension": ".py",
   "mimetype": "text/x-python",
   "name": "python",
   "nbconvert_exporter": "python",
   "pygments_lexer": "ipython3",
   "version": "3.11.11"
  }
 },
 "nbformat": 4,
 "nbformat_minor": 5
}
